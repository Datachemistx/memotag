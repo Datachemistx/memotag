{
 "cells": [
  {
   "cell_type": "markdown",
   "id": "ac4e0c42",
   "metadata": {},
   "source": [
    "Extracting Features from Text"
   ]
  },
  {
   "cell_type": "code",
   "execution_count": null,
   "id": "66824a76",
   "metadata": {},
   "outputs": [
    {
     "name": "stdout",
     "output_type": "stream",
     "text": [
      "✅ Extracted Text Features:\n",
      "   clip_id  word_count  sentence_count  avg_words_per_sentence  \\\n",
      "0   clip_1          26               4                    6.50   \n",
      "1   clip_2          22               3                    7.33   \n",
      "2   clip_3          22               3                    7.33   \n",
      "3   clip_4          19               1                   19.00   \n",
      "4   clip_5          19               1                   19.00   \n",
      "5   clip_6          22               2                   11.00   \n",
      "6   clip_7          20               2                   10.00   \n",
      "7   clip_8          13               1                   13.00   \n",
      "8   clip_9          18               2                    9.00   \n",
      "9  clip_10          18               2                    9.00   \n",
      "\n",
      "   hesitation_count  repeated_words  sentence_complete  \n",
      "0                 1               4                  1  \n",
      "1                 1               3                  1  \n",
      "2                 0               5                  1  \n",
      "3                 1               4                  1  \n",
      "4                 1               2                  1  \n",
      "5                 1               3                  1  \n",
      "6                 0               4                  1  \n",
      "7                 0               2                  1  \n",
      "8                 0               3                  1  \n",
      "9                 0               3                  1  \n"
     ]
    },
    {
     "name": "stderr",
     "output_type": "stream",
     "text": [
      "[nltk_data] Downloading package punkt to\n",
      "[nltk_data]     C:\\Users\\veerk\\AppData\\Roaming\\nltk_data...\n",
      "[nltk_data]   Package punkt is already up-to-date!\n"
     ]
    }
   ],
   "source": [
    "import nltk\n",
    "from nltk.tokenize import word_tokenize, sent_tokenize\n",
    "from collections import Counter\n",
    "import pandas as pd\n",
    "\n",
    "nltk.download(\"punkt\")\n",
    "\n",
    "# Your transcript dictionary\n",
    "output_texts = {\n",
    "    \"clip_1\": \"Umm... I was going to the... the thing... store. Then I came back. But wait... maybe I forgot something.\",\n",
    "    \"clip_2\": \"I had breakfast with... uh... someone... I don’t remember. He lives next door I think.\",\n",
    "    \"clip_3\": \"It was a nice day. I walked to the park. Or maybe... maybe it was the post office.\",\n",
    "    \"clip_4\": \"I, I, I don't know what I was saying... um... where was I?\",\n",
    "    \"clip_5\": \"I picked up the... uh... the round thing... you know, the fruit... apple.\",\n",
    "    \"clip_6\": \"She gave me the... um... I forgot what it's called... the... you use it to stir.\",\n",
    "    \"clip_7\": \"Yesterday I was... and the phone rang but it wasn’t... I didn’t answer.\",\n",
    "    \"clip_8\": \"I watched the microwave... no wait, I meant the movie.\",\n",
    "    \"clip_9\": \"The... the thing I said... I was trying to—no, I mean... forget it.\",\n",
    "    \"clip_10\": \"I needed to go to... oh look, the dog is barking again... I forgot.\"\n",
    "}\n",
    "\n",
    "# Define hesitation/filler words\n",
    "hesitation_words = ['uh', 'um', 'umm', 'erm', 'err']\n",
    "\n",
    "# Feature extraction function\n",
    "def extract_text_features(transcripts):\n",
    "    features = []\n",
    "\n",
    "    for clip_id, text in transcripts.items():\n",
    "        tokens = word_tokenize(text.lower())\n",
    "        word_count = len(tokens)\n",
    "        hesitation_count = sum(tokens.count(h) for h in hesitation_words)\n",
    "        sentence_count = len(sent_tokenize(text))\n",
    "        avg_words_per_sentence = word_count / sentence_count if sentence_count else 0\n",
    "\n",
    "        word_freq = Counter(tokens)\n",
    "        repeated_words = sum(1 for w, c in word_freq.items() if c > 1)\n",
    "\n",
    "        sentence_complete = int(all(sent.strip().endswith(('.', '?', '!')) for sent in sent_tokenize(text)))\n",
    "\n",
    "        features.append({\n",
    "            \"clip_id\": clip_id,\n",
    "            \"word_count\": word_count,\n",
    "            \"sentence_count\": sentence_count,\n",
    "            \"avg_words_per_sentence\": round(avg_words_per_sentence, 2),\n",
    "            \"hesitation_count\": hesitation_count,\n",
    "            \"repeated_words\": repeated_words,\n",
    "            \"sentence_complete\": sentence_complete\n",
    "        })\n",
    "\n",
    "    return pd.DataFrame(features)\n",
    "\n",
    "# Running  it\n",
    "df_features = extract_text_features(output_texts)\n",
    "\n",
    "# Showing  results as \n",
    "print(\"✅ Extracted Text Features:\")\n",
    "print(df_features)\n"
   ]
  },
  {
   "cell_type": "markdown",
   "id": "b5ac4bd0",
   "metadata": {},
   "source": [
    "Build Dataset + Preprocessing for ML"
   ]
  },
  {
   "cell_type": "code",
   "execution_count": null,
   "id": "4421730f",
   "metadata": {},
   "outputs": [
    {
     "name": "stdout",
     "output_type": "stream",
     "text": [
      "✅ Scaled Feature Data:\n",
      "   word_count  sentence_count  avg_words_per_sentence  hesitation_count  \\\n",
      "0    1.865696        2.013996               -1.064450               1.0   \n",
      "1    0.642289        0.953998               -0.873052               1.0   \n",
      "2    0.642289        0.953998               -0.873052              -1.0   \n",
      "3   -0.275267       -1.165998                1.818052               1.0   \n",
      "4   -0.275267       -1.165998                1.818052               1.0   \n",
      "5    0.642289       -0.106000               -0.026750               1.0   \n",
      "6    0.030585       -0.106000               -0.257350              -1.0   \n",
      "7   -2.110378       -1.165998                0.434451              -1.0   \n",
      "8   -0.581119       -0.106000               -0.487950              -1.0   \n",
      "9   -0.581119       -0.106000               -0.487950              -1.0   \n",
      "\n",
      "   repeated_words  sentence_complete  clip_id  \n",
      "0        0.777778                0.0   clip_1  \n",
      "1       -0.333333                0.0   clip_2  \n",
      "2        1.888889                0.0   clip_3  \n",
      "3        0.777778                0.0   clip_4  \n",
      "4       -1.444444                0.0   clip_5  \n",
      "5       -0.333333                0.0   clip_6  \n",
      "6        0.777778                0.0   clip_7  \n",
      "7       -1.444444                0.0   clip_8  \n",
      "8       -0.333333                0.0   clip_9  \n",
      "9       -0.333333                0.0  clip_10  \n"
     ]
    }
   ],
   "source": [
    "from sklearn.preprocessing import StandardScaler\n",
    "\n",
    "# Use df_features from previous step\n",
    "# Dropping  clip_id (not needed for training)\n",
    "X_raw = df_features.drop(columns=[\"clip_id\"])\n",
    "\n",
    "# Normalize all numeric features\n",
    "scaler = StandardScaler()\n",
    "X_scaled = scaler.fit_transform(X_raw)\n",
    "\n",
    "# Optional: convert back to DataFrame for readability\n",
    "import pandas as pd\n",
    "df_scaled = pd.DataFrame(X_scaled, columns=X_raw.columns)\n",
    "df_scaled[\"clip_id\"] = df_features[\"clip_id\"]\n",
    "\n",
    "# View the scaled data\n",
    "print(\"✅ Scaled Feature Data:\")\n",
    "print(df_scaled)\n"
   ]
  },
  {
   "cell_type": "markdown",
   "id": "def3b216",
   "metadata": {},
   "source": [
    "ML Modeling – Clustering + Anomaly Detection"
   ]
  },
  {
   "cell_type": "markdown",
   "id": "856afb9a",
   "metadata": {},
   "source": [
    "Part 01: Using  KMeans Clustering\n"
   ]
  },
  {
   "cell_type": "code",
   "execution_count": 3,
   "id": "a24c2a2b",
   "metadata": {},
   "outputs": [
    {
     "name": "stderr",
     "output_type": "stream",
     "text": [
      "c:\\ProgramData\\anaconda3\\Lib\\site-packages\\sklearn\\cluster\\_kmeans.py:1412: FutureWarning: The default value of `n_init` will change from 10 to 'auto' in 1.4. Set the value of `n_init` explicitly to suppress the warning\n",
      "  super()._check_params_vs_input(X, default_n_init=10)\n",
      "c:\\ProgramData\\anaconda3\\Lib\\site-packages\\sklearn\\cluster\\_kmeans.py:1436: UserWarning: KMeans is known to have a memory leak on Windows with MKL, when there are less chunks than available threads. You can avoid it by setting the environment variable OMP_NUM_THREADS=1.\n",
      "  warnings.warn(\n"
     ]
    },
    {
     "name": "stdout",
     "output_type": "stream",
     "text": [
      "✅ KMeans Clustering Results:\n",
      "   clip_id  kmeans_cluster\n",
      "0   clip_1               1\n",
      "1   clip_2               1\n",
      "2   clip_3               1\n",
      "3   clip_4               0\n",
      "4   clip_5               0\n",
      "5   clip_6               1\n",
      "6   clip_7               1\n",
      "7   clip_8               0\n",
      "8   clip_9               1\n",
      "9  clip_10               1\n"
     ]
    }
   ],
   "source": [
    "from sklearn.cluster import KMeans\n",
    "\n",
    "# Use scaled feature data from Step 3\n",
    "X_features = df_scaled.drop(columns=[\"clip_id\"])\n",
    "\n",
    "# KMeans with 2 or 3 clusters (you can tune this later)\n",
    "kmeans = KMeans(n_clusters=2, random_state=42)\n",
    "df_scaled[\"kmeans_cluster\"] = kmeans.fit_predict(X_features)\n",
    "\n",
    "print(\"✅ KMeans Clustering Results:\")\n",
    "print(df_scaled[[\"clip_id\", \"kmeans_cluster\"]])"
   ]
  },
  {
   "cell_type": "markdown",
   "id": "a2ea0473",
   "metadata": {},
   "source": [
    "Part 02: Using Isolation Forest (Anomaly Detection)"
   ]
  },
  {
   "cell_type": "code",
   "execution_count": 4,
   "id": "3af8b109",
   "metadata": {},
   "outputs": [
    {
     "name": "stdout",
     "output_type": "stream",
     "text": [
      "\n",
      "🚨 Anomaly Detection Results:\n",
      "   clip_id  is_anomaly\n",
      "0   clip_1           1\n",
      "1   clip_2           0\n",
      "2   clip_3           0\n",
      "3   clip_4           0\n",
      "4   clip_5           0\n",
      "5   clip_6           0\n",
      "6   clip_7           0\n",
      "7   clip_8           1\n",
      "8   clip_9           0\n",
      "9  clip_10           0\n"
     ]
    }
   ],
   "source": [
    "from sklearn.ensemble import IsolationForest\n",
    "\n",
    "# Isolation Forest (treats low-scoring points as anomalies)\n",
    "iso = IsolationForest(contamination=0.2, random_state=42)  # adjust contamination if needed\n",
    "df_scaled[\"anomaly_score\"] = iso.fit_predict(X_features)\n",
    "\n",
    "# -1 = anomaly, 1 = normal\n",
    "df_scaled[\"is_anomaly\"] = df_scaled[\"anomaly_score\"].apply(lambda x: 1 if x == -1 else 0)\n",
    "\n",
    "print(\"\\n🚨 Anomaly Detection Results:\")\n",
    "print(df_scaled[[\"clip_id\", \"is_anomaly\"]])\n"
   ]
  },
  {
   "cell_type": "markdown",
   "id": "ac135879",
   "metadata": {},
   "source": [
    "PCA Visualization Code"
   ]
  },
  {
   "cell_type": "code",
   "execution_count": 5,
   "id": "6ec10543",
   "metadata": {},
   "outputs": [
    {
     "data": {
      "image/png": "[encoded data removed]",
      "text/plain": [
       "<Figure size 1000x600 with 1 Axes>"
      ]
     },
     "metadata": {},
     "output_type": "display_data"
    }
   ],
   "source": [
    "from sklearn.decomposition import PCA\n",
    "import matplotlib.pyplot as plt\n",
    "import seaborn as sns\n",
    "\n",
    "# Setup\n",
    "X_pca = PCA(n_components=2).fit_transform(X_features)\n",
    "\n",
    "df_scaled[\"PCA1\"] = X_pca[:, 0]\n",
    "df_scaled[\"PCA2\"] = X_pca[:, 1]\n",
    "\n",
    "# Plot clusters + anomalies\n",
    "plt.figure(figsize=(10, 6))\n",
    "sns.scatterplot(\n",
    "    data=df_scaled,\n",
    "    x=\"PCA1\",\n",
    "    y=\"PCA2\",\n",
    "    hue=\"kmeans_cluster\",\n",
    "    style=\"is_anomaly\",\n",
    "    palette=\"Set2\",\n",
    "    s=100\n",
    ")\n",
    "\n",
    "plt.title(\"Cognitive Speech Clip Clustering & Anomalies\")\n",
    "plt.xlabel(\"PCA 1\")\n",
    "plt.ylabel(\"PCA 2\")\n",
    "plt.legend(title=\"KMeans Cluster / Anomaly\")\n",
    "plt.grid(True)\n",
    "plt.show()\n"
   ]
  },
  {
   "cell_type": "code",
   "execution_count": 6,
   "id": "97f1b554",
   "metadata": {},
   "outputs": [
    {
     "name": "stdout",
     "output_type": "stream",
     "text": [
      "\n",
      "🧠 Risk Summary:\n",
      "   clip_id risk_level  kmeans_cluster  is_anomaly\n",
      "0   clip_1       High               1           1\n",
      "1   clip_2     Normal               1           0\n",
      "2   clip_3     Normal               1           0\n",
      "3   clip_4     Normal               0           0\n",
      "4   clip_5     Normal               0           0\n",
      "5   clip_6     Normal               1           0\n",
      "6   clip_7     Normal               1           0\n",
      "7   clip_8       High               0           1\n",
      "8   clip_9     Normal               1           0\n",
      "9  clip_10     Normal               1           0\n",
      "📁 Saved results to cognitive_speech_results.csv\n"
     ]
    }
   ],
   "source": [
    "# Add a score (just for interpretation)\n",
    "df_scaled[\"risk_level\"] = df_scaled[\"is_anomaly\"].apply(lambda x: \"High\" if x == 1 else \"Normal\")\n",
    "\n",
    "# Show summary\n",
    "print(\"\\n🧠 Risk Summary:\")\n",
    "print(df_scaled[[\"clip_id\", \"risk_level\", \"kmeans_cluster\", \"is_anomaly\"]])\n",
    "\n",
    "\n",
    "df_scaled.to_csv(\"cognitive_speech_results.csv\", index=False)\n",
    "print(\"📁 Saved results to cognitive_speech_results.csv\")\n"
   ]
  },
  {
   "cell_type": "markdown",
   "id": "52872989",
   "metadata": {},
   "source": [
    "score_cognitive_risk(text)"
   ]
  },
  {
   "cell_type": "code",
   "execution_count": 11,
   "id": "50159a13",
   "metadata": {},
   "outputs": [],
   "source": [
    "def score_cognitive_risk(text):\n",
    "    import nltk\n",
    "    from nltk.tokenize import word_tokenize, sent_tokenize\n",
    "    from collections import Counter\n",
    "\n",
    "    hesitation_words = ['uh', 'um', 'umm', 'erm', 'err']\n",
    "\n",
    "    # Tokenize\n",
    "    tokens = word_tokenize(text.lower())\n",
    "    word_count = len(tokens)\n",
    "    sentence_count = len(sent_tokenize(text))\n",
    "    avg_words_per_sentence = word_count / sentence_count if sentence_count else 0\n",
    "    hesitation_count = sum(tokens.count(h) for h in hesitation_words)\n",
    "    word_freq = Counter(tokens)\n",
    "    repeated_words = sum(1 for w, c in word_freq.items() if c > 1)\n",
    "    sentence_complete = int(all(sent.strip().endswith(('.', '?', '!')) for sent in sent_tokenize(text)))\n",
    "\n",
    "    # Create input row\n",
    "    row = [[\n",
    "        word_count,\n",
    "        sentence_count,\n",
    "        avg_words_per_sentence,\n",
    "        hesitation_count,\n",
    "        repeated_words,\n",
    "        sentence_complete\n",
    "    ]]\n",
    "\n",
    "    # Scale it\n",
    "    row_scaled = scaler.transform(row)\n",
    "\n",
    "    # Predict cluster + anomaly\n",
    "    cluster = kmeans.predict(row_scaled)[0]\n",
    "    anomaly = iso.predict(row_scaled)[0]\n",
    "    risk = \"High\" if anomaly == -1 else \"Normal\"\n",
    "\n",
    "    return {\n",
    "        \"cluster\": cluster,\n",
    "        \"is_anomaly\": 1 if anomaly == -1 else 0,\n",
    "        \"risk_level\": risk,\n",
    "        \"features\": {\n",
    "            \"word_count\": word_count,\n",
    "            \"sentence_count\": sentence_count,\n",
    "            \"avg_words_per_sentence\": round(avg_words_per_sentence, 2),\n",
    "            \"hesitation_count\": hesitation_count,\n",
    "            \"repeated_words\": repeated_words,\n",
    "            \"sentence_complete\": sentence_complete\n",
    "        }\n",
    "    }\n"
   ]
  },
  {
   "cell_type": "markdown",
   "id": "20e69d73",
   "metadata": {},
   "source": [
    "Testing the model using "
   ]
  },
  {
   "cell_type": "code",
   "execution_count": 10,
   "id": "12aac7c4",
   "metadata": {},
   "outputs": [
    {
     "name": "stdout",
     "output_type": "stream",
     "text": [
      "{'cluster': 0, 'is_anomaly': 0, 'risk_level': 'Normal', 'features': {'word_count': 16, 'sentence_count': 2, 'avg_words_per_sentence': 8.0, 'hesitation_count': 1, 'repeated_words': 2, 'sentence_complete': 1}}\n"
     ]
    },
    {
     "name": "stderr",
     "output_type": "stream",
     "text": [
      "c:\\ProgramData\\anaconda3\\Lib\\site-packages\\sklearn\\base.py:464: UserWarning: X does not have valid feature names, but StandardScaler was fitted with feature names\n",
      "  warnings.warn(\n",
      "c:\\ProgramData\\anaconda3\\Lib\\site-packages\\sklearn\\base.py:464: UserWarning: X does not have valid feature names, but KMeans was fitted with feature names\n",
      "  warnings.warn(\n",
      "c:\\ProgramData\\anaconda3\\Lib\\site-packages\\sklearn\\base.py:464: UserWarning: X does not have valid feature names, but IsolationForest was fitted with feature names\n",
      "  warnings.warn(\n"
     ]
    }
   ],
   "source": [
    "sample_text = \"I, I don't know... I forgot what I was saying... umm...\"\n",
    "print(score_cognitive_risk(sample_text))"
   ]
  }
 ],
 "metadata": {
  "kernelspec": {
   "display_name": "base",
   "language": "python",
   "name": "python3"
  },
  "language_info": {
   "codemirror_mode": {
    "name": "ipython",
    "version": 3
   },
   "file_extension": ".py",
   "mimetype": "text/x-python",
   "name": "python",
   "nbconvert_exporter": "python",
   "pygments_lexer": "ipython3",
   "version": "3.12.4"
  }
 },
 "nbformat": 4,
 "nbformat_minor": 5
}
